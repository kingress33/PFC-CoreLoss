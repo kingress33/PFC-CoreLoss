{
 "cells": [
  {
   "cell_type": "code",
   "execution_count": 10,
   "metadata": {},
   "outputs": [
    {
     "data": {
      "text/plain": [
       "0"
      ]
     },
     "execution_count": 10,
     "metadata": {},
     "output_type": "execute_result"
    }
   ],
   "source": [
    "%reset -f\n",
    "\n",
    "import gc\n",
    "gc.collect()  # 強制 Python 回收記憶體"
   ]
  },
  {
   "cell_type": "code",
   "execution_count": 11,
   "metadata": {},
   "outputs": [],
   "source": [
    "import pandas as pd\n",
    "import numpy as np"
   ]
  },
  {
   "cell_type": "code",
   "execution_count": 12,
   "metadata": {},
   "outputs": [
    {
     "name": "stdout",
     "output_type": "stream",
     "text": [
      "✅ 測試條件統計完成，結果已儲存到 ./test_condition_summary.csv\n"
     ]
    }
   ],
   "source": [
    "# 讀取總表\n",
    "summary_file = \"./combine/combined_250318.csv\"  # 修改為你的總表\n",
    "df = pd.read_csv(summary_file)\n",
    "\n",
    "# 目標測試條件\n",
    "target_turns_values = [5, 10, 15, 20, 25]\n",
    "target_duty_values = [0.1, 0.2, 0.3, 0.4, 0.5, 0.6, 0.7, 0.8, 0.9]  # 目標 Duty\n",
    "target_frequency = 100  # 目標頻率 (kHz)\n",
    "target_hdc_values = [300, 600, 900, 1200, 1500, 1800, 2100, 2400]  # Hdc(A/m)\n",
    "target_Bm_values = [10, 20, 30, 40, 50, 60, 70, 80, 90, 100]  # B_max(mT)\n",
    "\n",
    "# 數值比對的誤差範圍 (tolerance)\n",
    "tolerance_hdc = 5  # 允許 Hdc 誤差範圍 ±10 A/m\n",
    "tolerance_Bmax = 1  # 允許 B_max 誤差範圍 ±5 mT\n",
    "\n",
    "# 建立結果表\n",
    "result_table = []\n",
    "\n",
    "# 遍歷所有組合，檢查是否有接近的測試條件\n",
    "for turns in target_turns_values:\n",
    "    for duty in target_duty_values:\n",
    "        for hdc in target_hdc_values:\n",
    "            row = {\n",
    "                \"N1\": turns,\n",
    "                \"Duty\": duty,\n",
    "                \"Hdc(A/m)\": hdc,\n",
    "                \"Frequency (kHz)\": target_frequency\n",
    "            }\n",
    "\n",
    "            for Bmax in target_Bm_values:\n",
    "                # 使用條件篩選測試數據（允許數值誤差）\n",
    "                condition = ((df[\"N1\"] == turns) & (df[\"Duty_P\"] == duty) &\n",
    "                             (df[\"Frequency(kHz)\"] == target_frequency) &\n",
    "                             (np.abs(df[\"Hdc(A/m)\"] - hdc) <= tolerance_hdc)\n",
    "                             &  # Hdc 誤差範圍\n",
    "                             (np.abs(df[\"B_max(mT)\"] - Bmax) <= tolerance_Bmax\n",
    "                              )  # B_max 誤差範圍\n",
    "                             )\n",
    "\n",
    "                row[f\"B_max(mT)={Bmax}mT\"] = \"✔\" if df[condition].shape[\n",
    "                    0] > 0 else \"✘\"\n",
    "\n",
    "            result_table.append(row)\n",
    "\n",
    "# 轉換成 DataFrame\n",
    "result_df = pd.DataFrame(result_table)\n",
    "\n",
    "# **輸出到 CSV**\n",
    "output_file = \"./test_condition_summary.csv\"\n",
    "result_df.to_csv(output_file, index=False, encoding=\"utf-8-sig\")\n",
    "\n",
    "print(f\"✅ 測試條件統計完成，結果已儲存到 {output_file}\")\n"
   ]
  }
 ],
 "metadata": {
  "kernelspec": {
   "display_name": "base",
   "language": "python",
   "name": "python3"
  },
  "language_info": {
   "codemirror_mode": {
    "name": "ipython",
    "version": 3
   },
   "file_extension": ".py",
   "mimetype": "text/x-python",
   "name": "python",
   "nbconvert_exporter": "python",
   "pygments_lexer": "ipython3",
   "version": "3.11.7"
  }
 },
 "nbformat": 4,
 "nbformat_minor": 2
}
