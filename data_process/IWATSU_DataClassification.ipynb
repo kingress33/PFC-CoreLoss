{
 "cells": [
  {
   "cell_type": "markdown",
   "metadata": {},
   "source": [
    "# 📌 IWATSU 測試數據分類腳本使用說明  \n",
    "\n",
    "本腳本用於 **自動整理 IWATSU 測試數據**，依照 **日期分類** 並將數據 **分類存放**，以便後續分析與機器學習使用。  \n",
    "\n",
    "\n",
    "## 📂 資料夾結構  \n",
    "\n",
    "請將 **IWATSU 測試數據** 放入 `RawData` 目錄中。  \n",
    "⚠ 若 `RawData` 目錄不存在，請自行建立。  \n",
    "\n",
    "測試數據會按照 **日期 (西元後兩位+月份+日期)** 存放，例如：  \n",
    "\n",
    "\n"
   ]
  },
  {
   "attachments": {
    "image.png": {
     "image/png": "[encoded data removed]"
    }
   },
   "cell_type": "markdown",
   "metadata": {},
   "source": [
    "![image.png](attachment:image.png)"
   ]
  },
  {
   "cell_type": "markdown",
   "metadata": {},
   "source": [
    "\n",
    "\n",
    "## ⚙️ 程式運作方式  \n",
    "\n",
    "執行後，程式會 **自動遍歷 `RawData/{日期}` 內的所有子目錄與檔案**，並根據檔案類型分類：  \n",
    "\n",
    "- **📁 `waveforms/`** → 單點波形數據 (`_Norm..csv`)  \n",
    "- **📁 `summary/`** → IWATSU 總表 (`.csv`，但非 `_Norm.csv`)  \n",
    "- **📁 `images/`** → 測試圖片 (`.jpg`)  \n",
    "\n",
    "\n",
    "## 📢 注意事項  \n",
    "\n",
    "1. **日期格式須符合 `YYMMDD` (西元後兩位+月份+日期)**  \n",
    "   - 例如 `250312` 代表 **2025 年 3 月 12 日**。  \n",
    "\n",
    "2. **波形檔案需符合 `_Norm..csv` 或 `_Norm.csv` 命名規則**  \n",
    "   - **確保 `_Norm..csv` 與 `_Norm.csv` 是否一致**，避免錯誤分類。  \n",
    "\n",
    "3. **執行前請確認 `RawData/{日期}` 內的測試數據已準備好**  \n",
    "\n",
    "\n",
    "## 🚀 執行方式  \n",
    "\n",
    "1. **確保 Python 環境可用**  \n",
    "2. **放入測試數據 (`RawData/{日期}`)**  \n",
    "3. **執行腳本**  "
   ]
  },
  {
   "cell_type": "markdown",
   "metadata": {},
   "source": [
    "### 檔案移動"
   ]
  },
  {
   "cell_type": "code",
   "execution_count": 1,
   "metadata": {},
   "outputs": [
    {
     "name": "stdout",
     "output_type": "stream",
     "text": [
      "Don't know how to reset  #, please run `%reset?` for details\n",
      "Don't know how to reset  清空所有變數, please run `%reset?` for details\n"
     ]
    },
    {
     "data": {
      "text/plain": [
       "0"
      ]
     },
     "execution_count": 1,
     "metadata": {},
     "output_type": "execute_result"
    }
   ],
   "source": [
    "%reset -f  # 清空所有變數\n",
    "import gc\n",
    "gc.collect()  # 強制 Python 回收記憶體"
   ]
  },
  {
   "cell_type": "code",
   "execution_count": 2,
   "metadata": {},
   "outputs": [
    {
     "name": "stdout",
     "output_type": "stream",
     "text": [
      "檔案移動完成！\n"
     ]
    }
   ],
   "source": [
    "import os\n",
    "import shutil\n",
    "\n",
    "date = \"250423\"\n",
    "\n",
    "# 設定來源資料夾 (包含子目錄)\n",
    "source_root = os.path.join(\".\", \"RawData\", date)\n",
    "# 目標資料夾\n",
    "waveform_dir = \"waveforms\"\n",
    "summary_dir = \"summary\"\n",
    "image_dir = \"images\"\n",
    "\n",
    "# 建立目標資料夾\n",
    "os.makedirs(waveform_dir, exist_ok=True)\n",
    "os.makedirs(summary_dir, exist_ok=True)\n",
    "os.makedirs(image_dir, exist_ok=True)\n",
    "\n",
    "# 遍歷 `source_root` 下的所有子目錄與檔案\n",
    "for root, dirs, files in os.walk(source_root):\n",
    "    for file in files:\n",
    "        file_path = os.path.join(root, file)\n",
    "\n",
    "        # 判斷是否為單點波形數據 (_Norm..csv)\n",
    "        #       if file.endswith(\"_Norm.csv\"):  #!結尾.csv，注意file name\n",
    "        if file.endswith(\"_Norm..csv\"):  #!結尾為..csv，注意file name\n",
    "            shutil.move(file_path, os.path.join(waveform_dir, file))\n",
    "\n",
    "        # IWATSU 總表\n",
    "        elif file.endswith(\".csv\") and not file.endswith(\"_Norm.csv\"):\n",
    "            shutil.move(file_path, os.path.join(summary_dir, file))\n",
    "\n",
    "        # IWATSU 圖片\n",
    "        elif file.endswith(\".jpg\"):\n",
    "            shutil.move(file_path, os.path.join(image_dir, file))\n",
    "\n",
    "print(\"檔案移動完成！\")\n"
   ]
  },
  {
   "cell_type": "markdown",
   "metadata": {},
   "source": [
    "### 檔案Copy"
   ]
  },
  {
   "cell_type": "code",
   "execution_count": 3,
   "metadata": {},
   "outputs": [],
   "source": [
    "# import os\n",
    "# import shutil\n",
    "\n",
    "# date = \"250318\"\n",
    "\n",
    "# # 設定來源資料夾 (包含子目錄)\n",
    "# source_root = os.path.join(\".\", \"RawData\", date)\n",
    "# # 目標資料夾\n",
    "# waveform_dir = \"waveforms\"\n",
    "# summary_dir = \"summary\"\n",
    "# image_dir = \"images\"\n",
    "\n",
    "# # 建立目標資料夾\n",
    "# os.makedirs(waveform_dir, exist_ok=True)\n",
    "# os.makedirs(summary_dir, exist_ok=True)\n",
    "# os.makedirs(image_dir, exist_ok=True)\n",
    "\n",
    "# # 遍歷 `source_root` 下的所有子目錄與檔案\n",
    "# for root, dirs, files in os.walk(source_root):\n",
    "#     for file in files:\n",
    "#         file_path = os.path.join(root, file)\n",
    "\n",
    "#         # 判斷是否為單點波形數據 (_Norm..csv)\n",
    "#         #       if file.endswith(\"_Norm.csv\"):  #!結尾.csv，注意file name\n",
    "#         if file.endswith(\"_Norm..csv\"):  #!結尾為..csv，注意file name\n",
    "#             shutil.copy2(file_path, os.path.join(waveform_dir, file))\n",
    "\n",
    "#         # IWATSU 總表\n",
    "#         elif file.endswith(\".csv\") and not file.endswith(\"_Norm.csv\"):\n",
    "#             shutil.copy2(file_path, os.path.join(summary_dir, file))\n",
    "\n",
    "#         # IWATSU 圖片\n",
    "#         elif file.endswith(\".jpg\"):\n",
    "#             shutil.copy2(file_path, os.path.join(image_dir, file))\n",
    "\n",
    "# print(\"檔案移動完成！\")\n"
   ]
  },
  {
   "cell_type": "code",
   "execution_count": null,
   "metadata": {},
   "outputs": [],
   "source": []
  }
 ],
 "metadata": {
  "kernelspec": {
   "display_name": "base",
   "language": "python",
   "name": "python3"
  },
  "language_info": {
   "codemirror_mode": {
    "name": "ipython",
    "version": 3
   },
   "file_extension": ".py",
   "mimetype": "text/x-python",
   "name": "python",
   "nbconvert_exporter": "python",
   "pygments_lexer": "ipython3",
   "version": "3.11.7"
  }
 },
 "nbformat": 4,
 "nbformat_minor": 2
}
